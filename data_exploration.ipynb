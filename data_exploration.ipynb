{
 "cells": [
  {
   "cell_type": "code",
   "execution_count": 1,
   "metadata": {},
   "outputs": [],
   "source": [
    "import pandas as pd\n",
    "import numpy as np\n",
    "import helpers"
   ]
  },
  {
   "cell_type": "code",
   "execution_count": 2,
   "metadata": {},
   "outputs": [
    {
     "name": "stdout",
     "output_type": "stream",
     "text": [
      "Downloading 202006-divvy-tripdata.csv\n",
      "Downloading 202007-divvy-tripdata.csv\n",
      "Downloading 202008-divvy-tripdata.csv\n",
      "Failed to download https://divvy-tripdata.s3.amazonaws.com/202008-divvy-tripdata.zip\n",
      "Downloading 202009-divvy-tripdata.csv\n",
      "Failed to download https://divvy-tripdata.s3.amazonaws.com/202009-divvy-tripdata.zip\n",
      "Downloading 202010-divvy-tripdata.csv\n",
      "Downloading 202011-divvy-tripdata.csv\n",
      "Downloading 202012-divvy-tripdata.csv\n",
      "Downloading 202101-divvy-tripdata.csv\n",
      "Downloading 202102-divvy-tripdata.csv\n",
      "Downloading 202103-divvy-tripdata.csv\n",
      "Failed to download https://divvy-tripdata.s3.amazonaws.com/202103-divvy-tripdata.zip\n",
      "Downloading 202104-divvy-tripdata.csv\n",
      "Downloading 202105-divvy-tripdata.csv\n",
      "Downloading 202106-divvy-tripdata.csv\n",
      "Downloading 202107-divvy-tripdata.csv\n",
      "Failed to download https://divvy-tripdata.s3.amazonaws.com/202107-divvy-tripdata.zip\n",
      "Downloading 202108-divvy-tripdata.csv\n",
      "Downloading 202109-divvy-tripdata.csv\n",
      "Downloading 202110-divvy-tripdata.csv\n",
      "Downloading 202111-divvy-tripdata.csv\n",
      "Downloading 202112-divvy-tripdata.csv\n",
      "Downloading 202201-divvy-tripdata.csv\n",
      "Downloading 202202-divvy-tripdata.csv\n",
      "Downloading 202203-divvy-tripdata.csv\n",
      "Downloading 202204-divvy-tripdata.csv\n",
      "Downloading 202205-divvy-tripdata.csv\n",
      "Re-attemping to download https://divvy-tripdata.s3.amazonaws.com/202008-divvy-tripdata.zip\n",
      "Downloading 202008-divvy-tripdata.csv\n",
      "Re-attemping to download https://divvy-tripdata.s3.amazonaws.com/202009-divvy-tripdata.zip\n",
      "Downloading 202009-divvy-tripdata.csv\n",
      "Re-attemping to download https://divvy-tripdata.s3.amazonaws.com/202103-divvy-tripdata.zip\n",
      "Downloading 202103-divvy-tripdata.csv\n",
      "Re-attemping to download https://divvy-tripdata.s3.amazonaws.com/202107-divvy-tripdata.zip\n",
      "Downloading 202107-divvy-tripdata.csv\n"
     ]
    }
   ],
   "source": [
    "helpers.download_data()"
   ]
  },
  {
   "cell_type": "code",
   "execution_count": null,
   "metadata": {},
   "outputs": [],
   "source": []
  }
 ],
 "metadata": {
  "kernelspec": {
   "display_name": "Python 3.8.8 ('base')",
   "language": "python",
   "name": "python3"
  },
  "language_info": {
   "codemirror_mode": {
    "name": "ipython",
    "version": 3
   },
   "file_extension": ".py",
   "mimetype": "text/x-python",
   "name": "python",
   "nbconvert_exporter": "python",
   "pygments_lexer": "ipython3",
   "version": "3.8.8"
  },
  "orig_nbformat": 4,
  "vscode": {
   "interpreter": {
    "hash": "2c451ce95fe964da0234b095afa66e059330c9064747f29d149596f3945acca6"
   }
  }
 },
 "nbformat": 4,
 "nbformat_minor": 2
}
